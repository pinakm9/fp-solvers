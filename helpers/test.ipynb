{
 "cells": [
  {
   "cell_type": "code",
   "execution_count": 16,
   "id": "caaa466c-2059-4ec5-85ae-3a3baeeda015",
   "metadata": {
    "tags": []
   },
   "outputs": [
    {
     "name": "stdout",
     "output_type": "stream",
     "text": [
      "\n",
      "📌 Match #1 in ../../fp-solvers/colab/L63_filter.ipynb at line 147:\n",
      "➡  147: # p_1l = fk.\u001b[1mcalc_2D_prob_weighted\u001b[0m(n_steps, dt, n_repeats, 0, 1, filter=nonzero_idx, method=quad_method, weight=weight, prune=prune, num=n_int_subdivs, d=degree)\n",
      "\n",
      "📌 Match #2 in ../../fp-solvers/colab/L63_filter.ipynb at line 159:\n",
      "➡  159: p_2l = fk.\u001b[1mcalc_2D_prob_weighted\u001b[0m(n_steps, dt, n_repeats, 1, 2, filter=nonzero_idx, method=quad_method, weight=weight, prune=prune, num=n_int_subdivs, d=degree)\n",
      "\n",
      "📌 Match #3 in ../../fp-solvers/colab/L63_filter.ipynb at line 170:\n",
      "➡  170: p_3l = fk.\u001b[1mcalc_2D_prob_weighted\u001b[0m(n_steps, dt, n_repeats, 2, 0, filter=nonzero_idx, method=quad_method, weight=weight, prune=prune, num=n_int_subdivs, d=degree)\n",
      "\n",
      "📌 Match #4 in ../../fp-solvers/colab/.ipynb_checkpoints/L63_filter-checkpoint.ipynb at line 147:\n",
      "➡  147: # p_1l = fk.\u001b[1mcalc_2D_prob_weighted\u001b[0m(n_steps, dt, n_repeats, 0, 1, filter=nonzero_idx, method=quad_method, weight=weight, prune=prune, num=n_int_subdivs, d=degree)\n",
      "\n",
      "📌 Match #5 in ../../fp-solvers/colab/.ipynb_checkpoints/L63_filter-checkpoint.ipynb at line 159:\n",
      "➡  159: p_2l = fk.\u001b[1mcalc_2D_prob_weighted\u001b[0m(n_steps, dt, n_repeats, 1, 2, filter=nonzero_idx, method=quad_method, weight=weight, prune=prune, num=n_int_subdivs, d=degree)\n",
      "\n",
      "📌 Match #6 in ../../fp-solvers/colab/.ipynb_checkpoints/L63_filter-checkpoint.ipynb at line 170:\n",
      "➡  170: p_3l = fk.\u001b[1mcalc_2D_prob_weighted\u001b[0m(n_steps, dt, n_repeats, 2, 0, filter=nonzero_idx, method=quad_method, weight=weight, prune=prune, num=n_int_subdivs, d=degree)\n"
     ]
    }
   ],
   "source": [
    "import directory as dr\n",
    "import search as se\n",
    "\n",
    "# dr.generate_ascii_tree('../../fp-solvers')\n",
    "se.search_string_in_files('../../fp-solvers/colab', \"calc_2D_prob_weighted\", context=0, file_extensions=[\".ipynb\"])"
   ]
  },
  {
   "cell_type": "code",
   "execution_count": 2,
   "id": "e852fb49-aef4-43c8-bf37-2f94987e8737",
   "metadata": {
    "tags": []
   },
   "outputs": [
    {
     "data": {
      "text/plain": [
       "['.DS_Store',\n",
       " 'requirements.txt',\n",
       " 'circle-fp',\n",
       " 'plotters',\n",
       " 'README.md',\n",
       " '.gitignore',\n",
       " 'colab',\n",
       " '.git',\n",
       " 'modules',\n",
       " 'one-step-filter',\n",
       " 'helpers',\n",
       " 'plots',\n",
       " 'non-grad3D']"
      ]
     },
     "execution_count": 2,
     "metadata": {},
     "output_type": "execute_result"
    }
   ],
   "source": [
    "import os\n",
    "os.listdir('../../fp-solvers')"
   ]
  },
  {
   "cell_type": "code",
   "execution_count": 12,
   "id": "b9d61ecf-1922-4d59-b792-26ab93054c98",
   "metadata": {
    "tags": []
   },
   "outputs": [
    {
     "name": "stdout",
     "output_type": "stream",
     "text": [
      "Help on function search_string_in_files in module search:\n",
      "\n",
      "search_string_in_files(folder_path, search_str, context=1, max_matches=None, file_extensions=None, log_file=None)\n",
      "    Search for a string in a folder's files and print the matches with context.\n",
      "    \n",
      "    :param folder_path: The path to the folder to search in.\n",
      "    :param search_str: The string to search for.\n",
      "    :param context: The number of surrounding lines to include in the match.\n",
      "    :param max_matches: The maximum number of matches to show. If None, all matches are shown.\n",
      "    :param file_extensions: The file extensions to search in. If None, all files are searched.\n",
      "    :param log_file: If not None, the results are saved to this file instead of printed to the console.\n",
      "\n"
     ]
    }
   ],
   "source": [
    "help(se.search_string_in_files)"
   ]
  },
  {
   "cell_type": "code",
   "execution_count": null,
   "id": "0b55a1b2-0e56-47b7-a74e-e62f83be0729",
   "metadata": {},
   "outputs": [],
   "source": []
  }
 ],
 "metadata": {
  "kernelspec": {
   "display_name": "Python 3 (ipykernel)",
   "language": "python",
   "name": "python3"
  },
  "language_info": {
   "codemirror_mode": {
    "name": "ipython",
    "version": 3
   },
   "file_extension": ".py",
   "mimetype": "text/x-python",
   "name": "python",
   "nbconvert_exporter": "python",
   "pygments_lexer": "ipython3",
   "version": "3.11.4"
  }
 },
 "nbformat": 4,
 "nbformat_minor": 5
}
