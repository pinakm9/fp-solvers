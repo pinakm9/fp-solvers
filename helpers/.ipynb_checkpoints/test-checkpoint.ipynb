{
 "cells": [
  {
   "cell_type": "code",
   "execution_count": 1,
   "id": "caaa466c-2059-4ec5-85ae-3a3baeeda015",
   "metadata": {
    "tags": []
   },
   "outputs": [
    {
     "name": "stdout",
     "output_type": "stream",
     "text": [
      "\n"
     ]
    },
    {
     "name": "stderr",
     "output_type": "stream",
     "text": [
      "IOPub data rate exceeded.\n",
      "The Jupyter server will temporarily stop sending output\n",
      "to the client in order to avoid crashing it.\n",
      "To change this limit, set the config variable\n",
      "`--ServerApp.iopub_data_rate_limit`.\n",
      "\n",
      "Current values:\n",
      "ServerApp.iopub_data_rate_limit=1000000.0 (bytes/sec)\n",
      "ServerApp.rate_limit_window=3.0 (secs)\n",
      "\n"
     ]
    }
   ],
   "source": [
    "import directory as dr\n",
    "import search as se\n",
    "\n",
    "# dr.generate_ascii_tree('../../fp-solvers')\n",
    "se.search_string_in_files('../../fp-solvers', \"Kac\")"
   ]
  },
  {
   "cell_type": "code",
   "execution_count": 2,
   "id": "e852fb49-aef4-43c8-bf37-2f94987e8737",
   "metadata": {
    "tags": []
   },
   "outputs": [
    {
     "data": {
      "text/plain": [
       "['.DS_Store',\n",
       " 'requirements.txt',\n",
       " 'circle-fp',\n",
       " 'plotters',\n",
       " 'README.md',\n",
       " '.gitignore',\n",
       " 'colab',\n",
       " '.git',\n",
       " 'modules',\n",
       " 'one-step-filter',\n",
       " 'helpers',\n",
       " 'plots',\n",
       " 'non-grad3D']"
      ]
     },
     "execution_count": 2,
     "metadata": {},
     "output_type": "execute_result"
    }
   ],
   "source": [
    "import os\n",
    "os.listdir('../../fp-solvers')"
   ]
  },
  {
   "cell_type": "code",
   "execution_count": null,
   "id": "b9d61ecf-1922-4d59-b792-26ab93054c98",
   "metadata": {},
   "outputs": [],
   "source": []
  }
 ],
 "metadata": {
  "kernelspec": {
   "display_name": "Python 3 (ipykernel)",
   "language": "python",
   "name": "python3"
  },
  "language_info": {
   "codemirror_mode": {
    "name": "ipython",
    "version": 3
   },
   "file_extension": ".py",
   "mimetype": "text/x-python",
   "name": "python",
   "nbconvert_exporter": "python",
   "pygments_lexer": "ipython3",
   "version": "3.11.4"
  }
 },
 "nbformat": 4,
 "nbformat_minor": 5
}
