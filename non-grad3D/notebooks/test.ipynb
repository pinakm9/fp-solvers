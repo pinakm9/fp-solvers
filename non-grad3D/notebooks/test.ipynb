{
 "cells": [
  {
   "cell_type": "code",
   "execution_count": 7,
   "id": "2a05003e",
   "metadata": {},
   "outputs": [
    {
     "name": "stdout",
     "output_type": "stream",
     "text": [
      "C:\\Users\\pinak\\Documents\\GitHub\\non-grad3D\n"
     ]
    }
   ],
   "source": [
    "import os, sys\n",
    "from pathlib import Path\n",
    "script_dir = Path(os.path.dirname(os.path.abspath('')))\n",
    "module_dir = str(script_dir)\n",
    "sys.path.insert(0, module_dir + '/modules')\n",
    "print(module_dir)\n",
    "\n",
    "# import the rest of the modules\n",
    "%matplotlib nbagg\n",
    "import numpy as np\n",
    "import tensorflow as tf \n",
    "import matplotlib.pyplot as plt\n",
    "import arch"
   ]
  },
  {
   "cell_type": "code",
   "execution_count": 13,
   "id": "3e2f2eff",
   "metadata": {},
   "outputs": [],
   "source": [
    "r = 1.\n",
    "X = np.random.normal(size=(5, 3)).astype('float32')"
   ]
  },
  {
   "cell_type": "code",
   "execution_count": 3,
   "id": "102327b4",
   "metadata": {},
   "outputs": [
    {
     "data": {
      "text/plain": [
       "array([[ 0.49909775,  0.59041585, -1.59777827],\n",
       "       [ 0.82492991,  0.66685465,  2.32737369],\n",
       "       [-1.94871424,  0.0508806 ,  0.50802789],\n",
       "       [ 1.43583623, -1.80601372, -0.29170615],\n",
       "       [-0.65784376, -1.01578823, -1.03879669]])"
      ]
     },
     "execution_count": 3,
     "metadata": {},
     "output_type": "execute_result"
    }
   ],
   "source": [
    "X"
   ]
  },
  {
   "cell_type": "code",
   "execution_count": 4,
   "id": "85079ff5",
   "metadata": {},
   "outputs": [],
   "source": [
    "x, y, z = tf.split(X, [1, 1, 1], axis=-1)"
   ]
  },
  {
   "cell_type": "code",
   "execution_count": 5,
   "id": "422d5ca3",
   "metadata": {},
   "outputs": [
    {
     "data": {
      "text/plain": [
       "<tf.Tensor: shape=(5, 1), dtype=float64, numpy=\n",
       "array([[ 0.49909775],\n",
       "       [ 0.82492991],\n",
       "       [-1.94871424],\n",
       "       [ 1.43583623],\n",
       "       [-0.65784376]])>"
      ]
     },
     "execution_count": 5,
     "metadata": {},
     "output_type": "execute_result"
    }
   ],
   "source": [
    "x"
   ]
  },
  {
   "cell_type": "code",
   "execution_count": 8,
   "id": "ad79137a",
   "metadata": {},
   "outputs": [],
   "source": [
    "def get_net(iter):\n",
    "    net = arch.LSTMForgetNet(num_nodes=50, num_blocks=3)\n",
    "    if iter < 500:\n",
    "        net.load_weights('../data/Thomas-true-vs-learned/init/Thomas_{}'.format(iter)).expect_partial()\n",
    "    elif iter < 10000:\n",
    "        net.load_weights('../data/Thomas-true-vs-learned/Thomas_{}'.format(iter)).expect_partial()\n",
    "    else:\n",
    "        net.load_weights('../data/Thomas/400k/Thomas').expect_partial()\n",
    "    return net\n",
    "\n",
    "\n",
    "n_theta = get_net(1000000)\n",
    "\n",
    "def h0(X):\n",
    "    l = len(X)\n",
    "    m = int(1e5)\n",
    "    M = int(np.ceil(l / m))\n",
    "    data = []\n",
    "    for i in range(M):\n",
    "        if i < M-1:\n",
    "            x_, y_, z_ = tf.split(X[i*m: (i+1)*m], [1, 1, 1], axis=-1)\n",
    "        else:\n",
    "            x_, y_, z_ = tf.split(X[i*m:], [1, 1, 1], axis=-1)\n",
    "        log_p0 = (- (x_**2 + y_**2 + z_**2) / (2.*r**2)).numpy()\n",
    "        log_pinf = n_theta(x_, y_, z_).numpy()\n",
    "        data.append(np.exp(log_p0 - log_pinf) / (2. * np.pi * r**2) ** (1.5))\n",
    "        \n",
    "    return np.concatenate(data, axis=0)"
   ]
  },
  {
   "cell_type": "code",
   "execution_count": 14,
   "id": "2fc7b90f",
   "metadata": {},
   "outputs": [
    {
     "data": {
      "text/plain": [
       "array([[0.01570974],\n",
       "       [0.01246196],\n",
       "       [0.01768144],\n",
       "       [0.00354082],\n",
       "       [0.00762022]], dtype=float32)"
      ]
     },
     "execution_count": 14,
     "metadata": {},
     "output_type": "execute_result"
    }
   ],
   "source": [
    "h0(X)"
   ]
  },
  {
   "cell_type": "code",
   "execution_count": null,
   "id": "1207f836",
   "metadata": {},
   "outputs": [],
   "source": []
  }
 ],
 "metadata": {
  "kernelspec": {
   "display_name": "Python 3 (ipykernel)",
   "language": "python",
   "name": "python3"
  },
  "language_info": {
   "codemirror_mode": {
    "name": "ipython",
    "version": 3
   },
   "file_extension": ".py",
   "mimetype": "text/x-python",
   "name": "python",
   "nbconvert_exporter": "python",
   "pygments_lexer": "ipython3",
   "version": "3.9.9"
  }
 },
 "nbformat": 4,
 "nbformat_minor": 5
}
