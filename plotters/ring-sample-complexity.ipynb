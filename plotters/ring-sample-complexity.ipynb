{
 "cells": [
  {
   "cell_type": "code",
   "execution_count": 1,
   "metadata": {
    "colab": {
     "base_uri": "https://localhost:8080/"
    },
    "id": "3mgdurzq21kl",
    "outputId": "3c5c4c9f-2806-4437-ccb7-da1c0f435fbf"
   },
   "outputs": [
    {
     "name": "stdout",
     "output_type": "stream",
     "text": [
      "C:\\Users\\pinak\\Documents\\GitHub\\fp-solvers\n"
     ]
    }
   ],
   "source": [
    "# add modules folder to Python's search path\n",
    "import os, sys\n",
    "from pathlib import Path\n",
    "script_dir = Path(os.path.dirname(os.path.abspath('')))\n",
    "module_dir = str(script_dir)\n",
    "sys.path.insert(0, module_dir + '/modules')\n",
    "print(module_dir)\n",
    "\n",
    "# import the rest of the modules\n",
    "%matplotlib nbagg\n",
    "%matplotlib inline\n",
    "import numpy as np\n",
    "import matplotlib.pyplot as plt\n",
    "import pandas as pd\n",
    "import time\n",
    "import utility as ut\n",
    "from scipy.special import erf"
   ]
  },
  {
   "cell_type": "markdown",
   "metadata": {
    "id": "6UwQc0zvCy_s"
   },
   "source": [
    "**Define $p_0,\\mu, p_\\infty$**"
   ]
  },
  {
   "cell_type": "code",
   "execution_count": 2,
   "metadata": {
    "id": "UYoX8F0vCtH-"
   },
   "outputs": [],
   "source": [
    "DTYPE = 'float32'\n",
    "sigma_0 = 0.5\n",
    "c = 2. * np.pi * sigma_0**2\n",
    "sigma = np.sqrt(2., dtype= DTYPE)\n",
    "D = sigma**2 / 2.\n",
    "Z = 0.5 * np.sqrt(np.pi**3 * D) * (1. + erf(1/np.sqrt(D)))\n",
    "logZ = np.log(Z)\n",
    "save_folder = '../circle-fp/data'\n",
    "dt = 0.01\n",
    "n_steps = 1\n",
    "root2 = np.sqrt(2., dtype= DTYPE)\n",
    "\n",
    "def smooth(y, box_pts):\n",
    "    box = np.ones(box_pts)/box_pts\n",
    "    y_smooth = np.convolve(y, box, mode='same')\n",
    "    return y_smooth\n",
    "\n",
    "def left(x, y):\n",
    "    return np.exp(-((x+.5)**2 + (y+.5)**2)/(2.*sigma_0**2)) / c\n",
    "\n",
    "def right(x, y):\n",
    "    return np.exp(-((x-.5)**2 + (y-.5)**2)/(2.*sigma_0**2)) / c\n",
    "\n",
    "def middle(x, y):\n",
    "    return 0.5 * left(x, y) + 0.5 * right(x, y)\n",
    "\n",
    "def get_p0(dim):\n",
    "    def p0(X):\n",
    "        args = np.split(X, dim, axis=-1)\n",
    "        a = [args[i:i+2] for i in range(0, dim, 2)]\n",
    "        val = 1.0\n",
    "        for x, y in a:\n",
    "            val *= middle(x, y)\n",
    "        return val\n",
    "    return p0\n",
    "\n",
    "def get_mu(dim):\n",
    "    def mu(X):\n",
    "        args = np.split(X, dim, axis=-1)\n",
    "        a = [args[i:i+2] for i in range(0, dim, 2)]\n",
    "        arr = []\n",
    "        for x, y in a:\n",
    "            z = -4. * (x*x + y*y - 1.)\n",
    "            arr += [x*z, y*z]\n",
    "        return np.concatenate(arr, axis=-1)\n",
    "    return mu\n",
    "\n",
    "def get_p_inf(dim):\n",
    "    def p_inf(X):\n",
    "        args = np.split(X, dim, axis=-1)\n",
    "        a = [args[i:i+2] for i in range(0, dim, 2)]\n",
    "        val = 0.0\n",
    "        for x, y in a:\n",
    "            val -= ((x*x + y*y - 1.)**2) / D + logZ\n",
    "        return np.exp(val)\n",
    "    return p_inf\n",
    "\n",
    "def get_h0(dim):\n",
    "    p0, p_inf = get_p0(dim), get_p_inf(dim)\n",
    "    def h0(X):\n",
    "      return p0(X) / p_inf(X)\n",
    "    return h0\n",
    "\n",
    "def get_endpts(dim, n_repeats):\n",
    "    X = np.ones((n_repeats, dim), dtype=DTYPE) / root2\n",
    "    dW = np.random.normal(scale=np.sqrt(dt), size=(n_steps, n_repeats, dim)).astype(DTYPE)\n",
    "    mu = get_mu(dim)\n",
    "    for step in range(n_steps):\n",
    "        X += mu(X) * dt + sigma * dW[step]\n",
    "    return X\n",
    "\n",
    "@ut.timer\n",
    "def fk(dim, n_repeats, m=10):\n",
    "    p_inf, h0 = get_p_inf(dim), get_h0(dim)\n",
    "    x0 = np.ones((1, dim), dtype=DTYPE) / root2\n",
    "    val = 0.\n",
    "    for i in range(m):\n",
    "      X = get_endpts(dim, n_repeats)\n",
    "      val += p_inf(x0)[0, 0] * (h0(X).sum()) / n_repeats\n",
    "    return val/m\n",
    "\n",
    "def solve(dim):\n",
    "    print(\"Solving for d = {}\".format(dim))\n",
    "    n_particles = [1, 100, 10000, 1000000, 2000000]\n",
    "    sol = np.zeros(len(n_particles))\n",
    "    j = int(dim/2) - 1\n",
    "    for i, n in enumerate(n_particles):\n",
    "      sol[i] = fk(dim, n)\n",
    "    pd.DataFrame({'N': n_particles, 'sol': sol}).to_csv('{}/sol{}D.csv'.format(save_folder, dim), index=None)\n",
    "    return sol\n",
    "\n",
    "def get_sol(dim):\n",
    "    df = pd.read_csv('{}/sol{}D.csv'.format(save_folder, dim))\n",
    "    return df['N'].to_numpy(), df['sol'].to_numpy()\n",
    "\n",
    "def get_truth(dim):\n",
    "    t = get_sol(2)[-1][-1]\n",
    "    return t**(dim/2)\n",
    "\n",
    "def plot(d):\n",
    "    fig = plt.figure(figsize=(8, 8))\n",
    "    ax = fig.add_subplot(111)\n",
    "    for dim in range(d, 12, 2):\n",
    "      n, s = get_sol(dim)\n",
    "      t = get_truth(dim)\n",
    "      s = s**(2/dim)\n",
    "      e = np.abs(s-s[-1])\n",
    "      ax.plot(np.log10(n[:-1]), np.log10(e[:-1]), label='d={}'.format(dim))\n",
    "      ax.legend()\n",
    "    plt.show()"
   ]
  },
  {
   "cell_type": "markdown",
   "metadata": {
    "id": "bgYLesoFye97"
   },
   "source": [
    "**Solve for d = 2, 4, 6, 8, 10**"
   ]
  },
  {
   "cell_type": "code",
   "execution_count": 4,
   "metadata": {
    "colab": {
     "base_uri": "https://localhost:8080/"
    },
    "id": "bBXmcZKxylrK",
    "outputId": "bbdeaa68-ee25-4241-aa01-1333d7d65448",
    "scrolled": true
   },
   "outputs": [
    {
     "name": "stdout",
     "output_type": "stream",
     "text": [
      "Solving for d = 2\n",
      "Time taken by fk is 0.0010023117065429688 seconds\n",
      "Time taken by fk is 0.002004861831665039 seconds\n",
      "Time taken by fk is 0.006531715393066406 seconds\n",
      "Time taken by fk is 0.808814525604248 seconds\n",
      "Time taken by fk is 1.710120439529419 seconds\n",
      "Solving for d = 4\n",
      "Time taken by fk is 0.0 seconds\n",
      "Time taken by fk is 0.004001617431640625 seconds\n",
      "Time taken by fk is 0.012520790100097656 seconds\n",
      "Time taken by fk is 1.9322271347045898 seconds\n",
      "Time taken by fk is 3.600896120071411 seconds\n",
      "Solving for d = 6\n",
      "Time taken by fk is 0.003997802734375 seconds\n",
      "Time taken by fk is 0.0 seconds\n",
      "Time taken by fk is 0.020630836486816406 seconds\n",
      "Time taken by fk is 2.706620216369629 seconds\n",
      "Time taken by fk is 5.481534719467163 seconds\n",
      "Solving for d = 8\n",
      "Time taken by fk is 0.004001140594482422 seconds\n",
      "Time taken by fk is 0.00400090217590332 seconds\n",
      "Time taken by fk is 0.020994901657104492 seconds\n",
      "Time taken by fk is 3.8131847381591797 seconds\n",
      "Time taken by fk is 7.437899827957153 seconds\n",
      "Solving for d = 10\n",
      "Time taken by fk is 0.004005908966064453 seconds\n",
      "Time taken by fk is 0.0040035247802734375 seconds\n",
      "Time taken by fk is 0.028084754943847656 seconds\n",
      "Time taken by fk is 4.845958709716797 seconds\n",
      "Time taken by fk is 9.730508089065552 seconds\n"
     ]
    },
    {
     "data": {
      "image/png": "[encoded data removed]",
      "text/plain": [
       "<Figure size 576x576 with 1 Axes>"
      ]
     },
     "metadata": {
      "needs_background": "light"
     },
     "output_type": "display_data"
    },
    {
     "name": "stdout",
     "output_type": "stream",
     "text": [
      "Time taken by this cell = 42.3019802570343\n"
     ]
    }
   ],
   "source": [
    "start = time.time()\n",
    "dim = 10\n",
    "for d in [2, 4, 6, 8, 10]:\n",
    "    solve(d)\n",
    "plot(dim)\n",
    "end = time.time()\n",
    "print('Time taken by this cell = {}'.format(end-start))"
   ]
  },
  {
   "cell_type": "code",
   "execution_count": null,
   "metadata": {
    "colab": {
     "base_uri": "https://localhost:8080/"
    },
    "id": "mfaeY0eVgh0V",
    "outputId": "9714d5d0-6fd0-4cf6-cd76-0b2d68dafbed"
   },
   "outputs": [],
   "source": [
    "plot(2)"
   ]
  },
  {
   "cell_type": "code",
   "execution_count": null,
   "metadata": {},
   "outputs": [],
   "source": []
  }
 ],
 "metadata": {
  "accelerator": "GPU",
  "colab": {
   "gpuType": "A100",
   "machine_shape": "hm",
   "provenance": []
  },
  "kernelspec": {
   "display_name": "Python 3 (ipykernel)",
   "language": "python",
   "name": "python3"
  },
  "language_info": {
   "codemirror_mode": {
    "name": "ipython",
    "version": 3
   },
   "file_extension": ".py",
   "mimetype": "text/x-python",
   "name": "python",
   "nbconvert_exporter": "python",
   "pygments_lexer": "ipython3",
   "version": "3.9.9"
  }
 },
 "nbformat": 4,
 "nbformat_minor": 1
}
