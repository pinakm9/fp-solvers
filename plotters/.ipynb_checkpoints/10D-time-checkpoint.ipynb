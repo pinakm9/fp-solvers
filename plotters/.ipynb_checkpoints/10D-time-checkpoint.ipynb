{
 "cells": [
  {
   "cell_type": "code",
   "execution_count": 1,
   "id": "3f72b6c9",
   "metadata": {},
   "outputs": [
    {
     "name": "stdout",
     "output_type": "stream",
     "text": [
      "C:\\Users\\pinak\\Documents\\GitHub\\fp-solvers\n"
     ]
    }
   ],
   "source": [
    "# import necessary modules\n",
    "%matplotlib nbagg\n",
    "%matplotlib inline\n",
    "import numpy as np\n",
    "import matplotlib.pyplot as plt\n",
    "from mpl_toolkits.axes_grid1 import make_axes_locatable\n",
    "\n",
    "n_subdivs = 100\n",
    "save_folder = '../circle-fp/data/10D'\n",
    "n_steps = 5\n",
    "dt = 0.01\n",
    "t = dt * n_steps"
   ]
  },
  {
   "cell_type": "code",
   "execution_count": null,
   "id": "e34640e1",
   "metadata": {},
   "outputs": [],
   "source": [
    "# set up plotting parameters\n",
    "scale = 5\n",
    "xlabel_size = ylabel_size = 15 + scale\n",
    "tick_size = 10 + scale\n",
    "legend_size = 15 + scale\n",
    "title_size = 15 + scale\n",
    "cbar_tick_size = 10 + scale\n",
    "line_color = \"darkgrey\"\n",
    "\n",
    "# define 6 subplots\n",
    "fig_all = plt.figure(figsize=(20, 10))\n",
    "ax_1l = fig_all.add_subplot(121) \n",
    "ax_1m = fig_all.add_subplot(122)\n",
    "\n",
    "\n",
    "# position colorbars\n",
    "div_1 = make_axes_locatable(ax_1l)\n",
    "cax_1 = div_1.append_axes('right', '5%', '5%')\n",
    "div_4 = make_axes_locatable(ax_1m)\n",
    "cax_4 = div_4.append_axes('right', '5%', '5%')\n",
    "\n",
    "\n",
    "# set label size\n",
    "ax_1l.tick_params(axis='both', which='major', labelsize=tick_size)\n",
    "ax_1l.tick_params(axis='both', which='minor', labelsize=tick_size)\n",
    "ax_1m.tick_params(axis='both', which='major', labelsize=tick_size)\n",
    "ax_1m.tick_params(axis='both', which='minor', labelsize=tick_size)\n",
    "\n",
    "\n",
    "# write titles and labels\n",
    "ax_1l.set_title('Learned solution at time = {:.2f}'.format(t), fontsize=title_size)\n",
    "ax_1l.set_ylabel(r'$p(x, y)$', fontsize=ylabel_size)\n",
    "ax_1m.set_title('Monte Carlo solution at time {:.2f}'.format(t), fontsize=title_size)\n",
    "ax_1m.set_xlabel(r'$x$', fontsize=xlabel_size)\n",
    "ax_1m.set_ylabel(r'$y$', fontsize=ylabel_size)\n",
    "\n",
    "\n",
    "x = np.load('{}/x_t.npy'.format(save_folder))\n",
    "y = np.load('{}/y_t.npy'.format(save_folder))\n",
    "z = np.load('{}/z_t.npy'.format(save_folder))\n",
    "    \n",
    "\n",
    "p_1m = np.load('{}/p_1m_t.npy'.format(save_folder))\n",
    "im = ax_1m.pcolormesh(x, y, p_1m.T, cmap='inferno', shading='auto')\n",
    "cbar_1m = fig_all.colorbar(im, cax=cax_4, ax=ax_1m)\n",
    "cbar_1m.ax.tick_params(labelsize=cbar_tick_size)\n",
    "ax_1m.set_aspect(\"auto\")\n",
    "\n",
    "\n",
    "p_1l = np.load('{}/p_1l_t.npy'.format(save_folder))\n",
    "im = ax_1l.pcolormesh(x, y, p_1l.T, cmap='inferno', shading='auto')\n",
    "cbar_1l = fig_all.colorbar(im, cax=cax_1, ax=ax_1l)\n",
    "cbar_1l.ax.tick_params(labelsize=cbar_tick_size)\n",
    "ax_1l.set_aspect(\"auto\")\n",
    "\n",
    "\n",
    "# plot and save\n",
    "fig_all.subplots_adjust(wspace=0.4, hspace=0.2)\n",
    "# Get the bounding boxes of the axes including text decorations\n",
    "s = 0.475\n",
    "line = plt.Line2D([s+.045,s+.045],[0.08,0.9], transform=fig_all.transFigure, color=line_color)\n",
    "fig_all.add_artist(line)\n",
    "plt.savefig('../plots/10D-time.png')"
   ]
  }
 ],
 "metadata": {
  "kernelspec": {
   "display_name": "Python 3 (ipykernel)",
   "language": "python",
   "name": "python3"
  },
  "language_info": {
   "codemirror_mode": {
    "name": "ipython",
    "version": 3
   },
   "file_extension": ".py",
   "mimetype": "text/x-python",
   "name": "python",
   "nbconvert_exporter": "python",
   "pygments_lexer": "ipython3",
   "version": "3.9.9"
  }
 },
 "nbformat": 4,
 "nbformat_minor": 5
}
