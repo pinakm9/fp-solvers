{
 "cells": [
  {
   "cell_type": "markdown",
   "metadata": {},
   "source": [
    "**Instructions for running this notebook on Colab**\n",
    "1. Run the cell below to download code from GitHub and install correct version of Python modules\n",
    "2. Restart session so that Colab can use the newly installed modules rather than their previously installed versions\n",
    "3. Run all cells"
   ]
  },
  {
   "cell_type": "code",
   "execution_count": 1,
   "metadata": {
    "colab": {
     "base_uri": "https://localhost:8080/"
    },
    "id": "SUAT0uI9Nedq",
    "outputId": "5ce8b500-5d25-4f32-d762-278f5a020927"
   },
   "outputs": [
    {
     "name": "stdout",
     "output_type": "stream",
     "text": [
      "Cloning into 'fp-solvers'...\n",
      "remote: Enumerating objects: 15199, done.\u001b[K\n",
      "remote: Counting objects: 100% (569/569), done.\u001b[K\n",
      "remote: Compressing objects: 100% (312/312), done.\u001b[K\n",
      "remote: Total 15199 (delta 246), reused 567 (delta 246), pack-reused 14630\u001b[K\n",
      "Receiving objects: 100% (15199/15199), 849.32 MiB | 21.47 MiB/s, done.\n",
      "Resolving deltas: 100% (7401/7401), done.\n",
      "Updating files: 100% (14751/14751), done.\n",
      "/\n"
     ]
    }
   ],
   "source": [
    "# run this cell to download data and necessary modules\n",
    "import os, shutil\n",
    "repo = 'fp-solvers'\n",
    "if os.path.isdir(repo):\n",
    "  shutil.rmtree(repo)\n",
    "!git clone https://github.com/pinakm9/fp-solvers.git\n",
    "!pip install -r fp-solvers/requirements.txt 2> /dev/null"
   ]
  },
  {
   "cell_type": "code",
   "execution_count": null,
   "metadata": {},
   "outputs": [],
   "source": [
    "# add modules folder to Python's search path\n",
    "import os, sys\n",
    "from pathlib import Path\n",
    "script_dir = Path(os.path.dirname(os.path.abspath('')))\n",
    "module_dir = str(script_dir)\n",
    "sys.path.insert(0, repo + '/modules')\n",
    "print(module_dir)\n",
    "\n",
    "# import the rest of the modules\n",
    "%matplotlib nbagg\n",
    "%matplotlib inline\n",
    "import numpy as np\n",
    "import tensorflow as tf \n",
    "import matplotlib.pyplot as plt\n",
    "import arch\n",
    "import pandas as pd\n",
    "import time  "
   ]
  },
  {
   "cell_type": "code",
   "execution_count": null,
   "metadata": {
    "colab": {
     "base_uri": "https://localhost:8080/"
    },
    "id": "u-0PvtrjOTQR",
    "outputId": "784cf04c-75ff-445a-c0ce-1d0fc6a6b8e2"
   },
   "outputs": [
    {
     "name": "stdout",
     "output_type": "stream",
     "text": [
      "Step = 5000, Time spent = 0.11m\n",
      "Step = 5100, Time spent = 0.20m\n",
      "Step = 5200, Time spent = 0.29m\n",
      "Step = 5300, Time spent = 0.37m\n",
      "Step = 5400, Time spent = 0.47m\n",
      "Step = 5500, Time spent = 0.56m\n",
      "Step = 5600, Time spent = 0.65m\n",
      "Step = 5700, Time spent = 0.74m\n",
      "Step = 5800, Time spent = 0.84m\n",
      "Step = 5900, Time spent = 0.92m\n",
      "Step = 6000, Time spent = 1.02m\n",
      "Step = 6100, Time spent = 1.10m\n",
      "Step = 6200, Time spent = 1.21m\n",
      "Step = 6300, Time spent = 1.30m\n",
      "Step = 6400, Time spent = 1.38m\n",
      "Step = 6500, Time spent = 1.48m\n",
      "Step = 6600, Time spent = 1.56m\n",
      "Step = 6700, Time spent = 1.66m\n",
      "Step = 6800, Time spent = 1.75m\n",
      "Step = 6900, Time spent = 1.84m\n",
      "Step = 7000, Time spent = 1.93m\n",
      "Step = 7100, Time spent = 2.03m\n",
      "Step = 7200, Time spent = 2.11m\n",
      "Step = 7300, Time spent = 2.21m\n",
      "Step = 7400, Time spent = 2.30m\n",
      "Step = 7500, Time spent = 2.38m\n",
      "Step = 7600, Time spent = 2.48m\n",
      "Step = 7700, Time spent = 2.56m\n",
      "Step = 7800, Time spent = 2.66m\n",
      "Step = 7900, Time spent = 2.75m\n",
      "Step = 8000, Time spent = 2.84m\n"
     ]
    }
   ],
   "source": [
    "DTYPE = 'float32'\n",
    "save_folder = '{}/circle-fp/data/2D-true-vs-learned'.format(repo)\n",
    "int_domain = [[-3., -3.], [3., 3.]]\n",
    "net_path='{}/circle-fp/data/2D-true-vs-learned'.format(repo)\n",
    "net_name='circle2D'\n",
    "steps = range(5000, 50000, 100) \n",
    "constants = {'step': [], 'c':[]}\n",
    "start = time.time()\n",
    "num_pts = int(1e6)\n",
    "V = (int_domain[1][0] - int_domain[0][0])*(int_domain[1][1] - int_domain[0][1])\n",
    "pts = tf.random.uniform(minval=int_domain[0], maxval=int_domain[1], shape=(num_pts, 2))\n",
    "x, y = tf.split(pts, 2, axis=-1)\n",
    "# load the learned solution\n",
    "dim = 2\n",
    "net = arch.LSTMForgetNet(50, 3, tf.float32, name=\"circle{}D\".format(dim))\n",
    "net.load_weights('{}/circle-fp/data/2D/{}'.format(repo, net.name)).expect_partial()\n",
    "for step in steps:\n",
    "    net.load_weights(\"{}/{}_{}\".format(net_path, net_name, step))\n",
    "    constants['step'].append(step)\n",
    "    constants['c'].append(1./(V*tf.reduce_mean(tf.exp(net(x, y))).numpy()))\n",
    "    end = time.time()\n",
    "    print('Step = {}, Time spent = {:.2f}m'.format(step, (end - start)/60))\n",
    "df = pd.DataFrame.from_dict(constants)\n",
    "df.to_csv('{}/circle-fp/data/normalization.csv'.format(repo, save_folder), index=False, header=True)"
   ]
  }
 ],
 "metadata": {
  "colab": {
   "authorship_tag": "ABX9TyOb+C+Ue1Ma4O0AkQ1iv4Uf",
   "include_colab_link": true,
   "provenance": []
  },
  "kernelspec": {
   "display_name": "Python 3 (ipykernel)",
   "language": "python",
   "name": "python3"
  },
  "language_info": {
   "codemirror_mode": {
    "name": "ipython",
    "version": 3
   },
   "file_extension": ".py",
   "mimetype": "text/x-python",
   "name": "python",
   "nbconvert_exporter": "python",
   "pygments_lexer": "ipython3",
   "version": "3.11.4"
  }
 },
 "nbformat": 4,
 "nbformat_minor": 4
}
