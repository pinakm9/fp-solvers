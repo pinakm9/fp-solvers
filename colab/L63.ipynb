{
 "cells": [
  {
   "cell_type": "markdown",
   "metadata": {
    "tags": []
   },
   "source": [
    "**Instructions for running this notebook on Colab**\n",
    "1. Run the cell below to download code from GitHub and install correct version of Python modules\n",
    "2. Restart session so that Colab can use the newly installed modules rather than their previously installed versions\n",
    "3. Run all cells\n",
    "\n",
    "**Note: The training cell can be run only once. If you need to re-run the cell, restart session.**"
   ]
  },
  {
   "cell_type": "code",
   "execution_count": 1,
   "metadata": {
    "colab": {
     "base_uri": "https://localhost:8080/"
    },
    "id": "FQAvG06zkDDB",
    "outputId": "06412909-864e-434e-ee1f-ed4320141aed"
   },
   "outputs": [
    {
     "name": "stdout",
     "output_type": "stream",
     "text": [
      "Cloning into 'fp-solvers'...\n",
      "remote: Enumerating objects: 15498, done.\u001b[K\n",
      "remote: Counting objects: 100% (868/868), done.\u001b[K\n",
      "remote: Compressing objects: 100% (514/514), done.\u001b[K\n",
      "remote: Total 15498 (delta 360), reused 838 (delta 338), pack-reused 14630 (from 1)\u001b[K\n",
      "Receiving objects: 100% (15498/15498), 855.42 MiB | 17.30 MiB/s, done.\n",
      "Resolving deltas: 100% (7515/7515), done.\n",
      "Updating files: 100% (14849/14849), done.\n",
      "Requirement already satisfied: tensorflow==2.14 in /usr/local/lib/python3.11/dist-packages (2.14.0)\n",
      "Requirement already satisfied: keras==2.14 in /usr/local/lib/python3.11/dist-packages (2.14.0)\n",
      "Requirement already satisfied: absl-py>=1.0.0 in /usr/local/lib/python3.11/dist-packages (from tensorflow==2.14) (1.4.0)\n",
      "Requirement already satisfied: astunparse>=1.6.0 in /usr/local/lib/python3.11/dist-packages (from tensorflow==2.14) (1.6.3)\n",
      "Requirement already satisfied: flatbuffers>=23.5.26 in /usr/local/lib/python3.11/dist-packages (from tensorflow==2.14) (25.2.10)\n",
      "Requirement already satisfied: gast!=0.5.0,!=0.5.1,!=0.5.2,>=0.2.1 in /usr/local/lib/python3.11/dist-packages (from tensorflow==2.14) (0.4.0)\n",
      "Requirement already satisfied: google-pasta>=0.1.1 in /usr/local/lib/python3.11/dist-packages (from tensorflow==2.14) (0.2.0)\n",
      "Requirement already satisfied: h5py>=2.9.0 in /usr/local/lib/python3.11/dist-packages (from tensorflow==2.14) (3.14.0)\n",
      "Requirement already satisfied: libclang>=13.0.0 in /usr/local/lib/python3.11/dist-packages (from tensorflow==2.14) (18.1.1)\n",
      "Requirement already satisfied: ml-dtypes==0.2.0 in /usr/local/lib/python3.11/dist-packages (from tensorflow==2.14) (0.2.0)\n",
      "Requirement already satisfied: numpy>=1.23.5 in /usr/local/lib/python3.11/dist-packages (from tensorflow==2.14) (1.23.5)\n",
      "Requirement already satisfied: opt-einsum>=2.3.2 in /usr/local/lib/python3.11/dist-packages (from tensorflow==2.14) (3.4.0)\n",
      "Requirement already satisfied: packaging in /usr/local/lib/python3.11/dist-packages (from tensorflow==2.14) (24.2)\n",
      "Requirement already satisfied: protobuf!=4.21.0,!=4.21.1,!=4.21.2,!=4.21.3,!=4.21.4,!=4.21.5,<5.0.0dev,>=3.20.3 in /usr/local/lib/python3.11/dist-packages (from tensorflow==2.14) (4.25.8)\n",
      "Requirement already satisfied: setuptools in /usr/local/lib/python3.11/dist-packages (from tensorflow==2.14) (75.2.0)\n",
      "Requirement already satisfied: six>=1.12.0 in /usr/local/lib/python3.11/dist-packages (from tensorflow==2.14) (1.17.0)\n",
      "Requirement already satisfied: termcolor>=1.1.0 in /usr/local/lib/python3.11/dist-packages (from tensorflow==2.14) (3.1.0)\n",
      "Requirement already satisfied: typing-extensions>=3.6.6 in /usr/local/lib/python3.11/dist-packages (from tensorflow==2.14) (4.5.0)\n",
      "Requirement already satisfied: wrapt<1.15,>=1.11.0 in /usr/local/lib/python3.11/dist-packages (from tensorflow==2.14) (1.14.1)\n",
      "Requirement already satisfied: tensorflow-io-gcs-filesystem>=0.23.1 in /usr/local/lib/python3.11/dist-packages (from tensorflow==2.14) (0.37.1)\n",
      "Requirement already satisfied: grpcio<2.0,>=1.24.3 in /usr/local/lib/python3.11/dist-packages (from tensorflow==2.14) (1.73.0)\n",
      "Requirement already satisfied: tensorboard<2.15,>=2.14 in /usr/local/lib/python3.11/dist-packages (from tensorflow==2.14) (2.14.1)\n",
      "Requirement already satisfied: tensorflow-estimator<2.15,>=2.14.0 in /usr/local/lib/python3.11/dist-packages (from tensorflow==2.14) (2.14.0)\n",
      "Requirement already satisfied: wheel<1.0,>=0.23.0 in /usr/local/lib/python3.11/dist-packages (from astunparse>=1.6.0->tensorflow==2.14) (0.45.1)\n",
      "Requirement already satisfied: google-auth<3,>=1.6.3 in /usr/local/lib/python3.11/dist-packages (from tensorboard<2.15,>=2.14->tensorflow==2.14) (2.38.0)\n",
      "Requirement already satisfied: google-auth-oauthlib<1.1,>=0.5 in /usr/local/lib/python3.11/dist-packages (from tensorboard<2.15,>=2.14->tensorflow==2.14) (1.0.0)\n",
      "Requirement already satisfied: markdown>=2.6.8 in /usr/local/lib/python3.11/dist-packages (from tensorboard<2.15,>=2.14->tensorflow==2.14) (3.8.2)\n",
      "Requirement already satisfied: requests<3,>=2.21.0 in /usr/local/lib/python3.11/dist-packages (from tensorboard<2.15,>=2.14->tensorflow==2.14) (2.32.3)\n",
      "Requirement already satisfied: tensorboard-data-server<0.8.0,>=0.7.0 in /usr/local/lib/python3.11/dist-packages (from tensorboard<2.15,>=2.14->tensorflow==2.14) (0.7.2)\n",
      "Requirement already satisfied: werkzeug>=1.0.1 in /usr/local/lib/python3.11/dist-packages (from tensorboard<2.15,>=2.14->tensorflow==2.14) (3.1.3)\n",
      "Requirement already satisfied: cachetools<6.0,>=2.0.0 in /usr/local/lib/python3.11/dist-packages (from google-auth<3,>=1.6.3->tensorboard<2.15,>=2.14->tensorflow==2.14) (5.5.2)\n",
      "Requirement already satisfied: pyasn1-modules>=0.2.1 in /usr/local/lib/python3.11/dist-packages (from google-auth<3,>=1.6.3->tensorboard<2.15,>=2.14->tensorflow==2.14) (0.4.2)\n",
      "Requirement already satisfied: rsa<5,>=3.1.4 in /usr/local/lib/python3.11/dist-packages (from google-auth<3,>=1.6.3->tensorboard<2.15,>=2.14->tensorflow==2.14) (4.9.1)\n",
      "Requirement already satisfied: requests-oauthlib>=0.7.0 in /usr/local/lib/python3.11/dist-packages (from google-auth-oauthlib<1.1,>=0.5->tensorboard<2.15,>=2.14->tensorflow==2.14) (2.0.0)\n",
      "Requirement already satisfied: charset-normalizer<4,>=2 in /usr/local/lib/python3.11/dist-packages (from requests<3,>=2.21.0->tensorboard<2.15,>=2.14->tensorflow==2.14) (3.4.2)\n",
      "Requirement already satisfied: idna<4,>=2.5 in /usr/local/lib/python3.11/dist-packages (from requests<3,>=2.21.0->tensorboard<2.15,>=2.14->tensorflow==2.14) (3.10)\n",
      "Requirement already satisfied: urllib3<3,>=1.21.1 in /usr/local/lib/python3.11/dist-packages (from requests<3,>=2.21.0->tensorboard<2.15,>=2.14->tensorflow==2.14) (2.4.0)\n",
      "Requirement already satisfied: certifi>=2017.4.17 in /usr/local/lib/python3.11/dist-packages (from requests<3,>=2.21.0->tensorboard<2.15,>=2.14->tensorflow==2.14) (2025.6.15)\n",
      "Requirement already satisfied: MarkupSafe>=2.1.1 in /usr/local/lib/python3.11/dist-packages (from werkzeug>=1.0.1->tensorboard<2.15,>=2.14->tensorflow==2.14) (3.0.2)\n",
      "Requirement already satisfied: pyasn1<0.7.0,>=0.6.1 in /usr/local/lib/python3.11/dist-packages (from pyasn1-modules>=0.2.1->google-auth<3,>=1.6.3->tensorboard<2.15,>=2.14->tensorflow==2.14) (0.6.1)\n",
      "Requirement already satisfied: oauthlib>=3.0.0 in /usr/local/lib/python3.11/dist-packages (from requests-oauthlib>=0.7.0->google-auth-oauthlib<1.1,>=0.5->tensorboard<2.15,>=2.14->tensorflow==2.14) (3.3.1)\n"
     ]
    }
   ],
   "source": [
    "# run this cell to download data and necessary modules\n",
    "import os, shutil\n",
    "repo = 'fp-solvers'\n",
    "if os.path.isdir(repo):\n",
    "  shutil.rmtree(repo)\n",
    "!git clone https://github.com/pinakm9/fp-solvers.git\n",
    "!pip install -r fp-solvers/requirements.txt 2> /dev/null"
   ]
  },
  {
   "cell_type": "code",
   "execution_count": null,
   "metadata": {},
   "outputs": [],
   "source": [
    "# add modules folder to Python's search path\n",
    "import sys\n",
    "sys.path.insert(0, repo + '/modules')\n",
    "# import the necessary modules\n",
    "import numpy as np\n",
    "import tensorflow as tf\n",
    "import lss_solver as lss\n",
    "tf.compat.v1.logging.set_verbosity(tf.compat.v1.logging.ERROR)\n",
    "DTYPE = 'float32'"
   ]
  },
  {
   "cell_type": "markdown",
   "metadata": {
    "id": "riKNqZhKi9Oq"
   },
   "source": [
    "**Define the equation through the $\\mathcal L_{\\log}$ operator**"
   ]
  },
  {
   "cell_type": "code",
   "execution_count": 2,
   "metadata": {
    "id": "5cEdr39fehdz"
   },
   "outputs": [],
   "source": [
    "dim=3\n",
    "alpha, beta, rho = 10., 8./3., 28.\n",
    "sigma = 10.\n",
    "D = sigma**2 / 2.\n",
    "\n",
    "low=[-30., -40., 0.]\n",
    "high=[30., 40., 70.]\n",
    "domain = [low, high]\n",
    "save_folder = '{}/non-grad3D/data/L63'.format(repo)\n",
    "\n",
    "def mu(x, y, z):\n",
    "  p = alpha * (y - x)\n",
    "  q = x * (rho - z) - y\n",
    "  r = x * y - beta * z\n",
    "  return p, q, r\n",
    "\n",
    "\n",
    "@tf.function\n",
    "def diff_log_op(f, x, y, z):\n",
    "    with tf.GradientTape(persistent=True) as tape:\n",
    "        tape.watch([x, y, z])\n",
    "        f_ = f(x, y, z)\n",
    "        f_x, f_y, f_z = tape.gradient(f_, [x, y, z])\n",
    "    f_xx = tape.gradient(f_x, x)\n",
    "    f_yy = tape.gradient(f_y, y)\n",
    "    f_zz = tape.gradient(f_z, z)\n",
    "    p, q, r = mu(x, y, z)\n",
    "    return -(p*f_x + q*f_y + r*f_z) + (alpha + beta + 1.) + D*(f_xx + f_yy + f_zz + f_x**2 + f_y**2 + f_z**2)"
   ]
  },
  {
   "cell_type": "markdown",
   "metadata": {
    "id": "JmWIC2HuEW3o"
   },
   "source": [
    "**Set up experiment parameters and learn the stationary distribution**"
   ]
  },
  {
   "cell_type": "code",
   "execution_count": 4,
   "metadata": {
    "id": "qjpymHAcx6Qr"
   },
   "outputs": [],
   "source": [
    "# For documentation on the lss module please refer to the GitHub repo: pinakm9/fp-solvers\n",
    "learning_rate = tf.keras.optimizers.schedules.PiecewiseConstantDecay([1000, 2000, 10000, 50000], [5e-3, 1e-3, 5e-4, 1e-4, 1e-5])\n",
    "optimizer = tf.keras.optimizers.Adam(learning_rate)\n",
    "model_path = '{}/non-grad3D/data/L63/800k/L63'.format(repo) # model_path = None implies training starts from scratch rather than pre-trained starting parameters\n",
    "solver = lss.LogSteadyStateSolver(num_nodes=50, num_blocks=3, dtype=DTYPE, name='L63'.format(dim), diff_log_op=diff_log_op, optimizer=optimizer, domain=domain, model_path=model_path)\n",
    "solver.learn(epochs = 200000, n_sample = 1000, save_folder=save_folder)"
   ]
  }
 ],
 "metadata": {
  "accelerator": "GPU",
  "colab": {
   "gpuClass": "premium",
   "gpuType": "A100",
   "machine_shape": "hm",
   "provenance": []
  },
  "kernelspec": {
   "display_name": "Python 3 (ipykernel)",
   "language": "python",
   "name": "python3"
  },
  "language_info": {
   "codemirror_mode": {
    "name": "ipython",
    "version": 3
   },
   "file_extension": ".py",
   "mimetype": "text/x-python",
   "name": "python",
   "nbconvert_exporter": "python",
   "pygments_lexer": "ipython3",
   "version": "3.11.4"
  }
 },
 "nbformat": 4,
 "nbformat_minor": 4
}
